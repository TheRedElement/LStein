{
 "cells": [
  {
   "cell_type": "code",
   "execution_count": 1,
   "id": "e13c2223",
   "metadata": {},
   "outputs": [
    {
     "data": {
      "text/plain": [
       "<module 'src_py.LVisPCanvas' from '/home/lukas/github/LVisP/src_py_demo/../src_py/LVisPCanvas.py'>"
      ]
     },
     "execution_count": 1,
     "metadata": {},
     "output_type": "execute_result"
    }
   ],
   "source": [
    "#%%imports\n",
    "import glob\n",
    "import importlib\n",
    "import matplotlib.pyplot as plt\n",
    "from matplotlib import colors as mcolors\n",
    "import numpy as np\n",
    "import os\n",
    "import polars as pl\n",
    "import re\n",
    "import sys\n",
    "from typing import Literal\n",
    "\n",
    "sys.path.append(\"../\")\n",
    "from src_py import LVisPCanvas, utils as lvisu, makedata as md\n",
    "\n",
    "importlib.reload(LVisPCanvas)\n",
    "# plt.style.use(\"dark_background\")"
   ]
  },
  {
   "cell_type": "markdown",
   "id": "95f260ce",
   "metadata": {},
   "source": [
    "# Get the Data"
   ]
  },
  {
   "cell_type": "code",
   "execution_count": null,
   "id": "c3308163",
   "metadata": {},
   "outputs": [],
   "source": [
    "#%%data loading\n",
    "#passbands\n",
    "df_pb = pl.read_csv(\"../data/passband_specs.csv\")\n",
    "passbands = list(df_pb[\"name\"])\n",
    "pb_mappings = dict(zip(df_pb[\"wavelength\"], df_pb.select(pl.exclude(\"wavelength\")).to_numpy()))\n",
    "\n",
    "#LCs\n",
    "fnames = sorted(glob.glob(\"../data/*_*.csv\"))\n",
    "fnames = np.append(fnames, [\"../data/lc_simulated.py\", \"../data/sin_simulated.py\"])\n",
    "print(fnames)\n",
    "fname = fnames[3]\n",
    "\n",
    "#deal with on-the-fly data generation (pseudo filenames)\n",
    "if fname == \"../data/lc_simulated.py\":\n",
    "    raw, pro = md.simulate(9, opt=\"lc\")\n",
    "    df = pl.concat([pl.from_dict(raw), pl.from_dict(pro)])\n",
    "    for t in df[\"period\"].unique(): pb_mappings[t] = [np.round(t, 3)]\n",
    "    legend = False\n",
    "    thetalab = \"Maximum Amplitude\"\n",
    "    xlab = \"Time [d]\"\n",
    "    ylab = \"Amplitude []\"\n",
    "elif fname == \"../data/sin_simulated.py\":\n",
    "    raw, pro = md.simulate(9, opt=\"sin\")\n",
    "    df = pl.concat([pl.from_dict(raw), pl.from_dict(pro)])\n",
    "    for t in df[\"period\"].unique(): pb_mappings[t] = [np.round(t, 3)]\n",
    "    legend = False\n",
    "    thetalab = \"Period [s]\"\n",
    "    xlab = \"Time [s]\"\n",
    "    ylab = \"Amplitude []\"\n",
    "else:\n",
    "    df = pl.read_csv(fname, comment_prefix=\"#\")\n",
    "    df = df.sort(pl.col(df.columns[1]))\n",
    "    legend = True\n",
    "    thetalab = \"Wavelength [nm]\"\n",
    "    xlab = \"MJD-min(MJD) [d]\" if \"mjd\" in df.columns else \"Period [d]\"\n",
    "    ylab = \"m [mag]\" if \"mag\" in df.columns else \"Fluxcal []\"\n",
    "\n",
    "# df = df.drop_nans()\n",
    "\n",
    "#sigma clipping\n",
    "df = df.filter(\n",
    "    pl.col(df.columns[2]).median()-3*pl.col(df.columns[2]).std() <= pl.col(df.columns[2]),\n",
    "    pl.col(df.columns[2]) <= pl.col(df.columns[2]).median()+3*pl.col(df.columns[2]).std(),\n",
    ")\n",
    "\n",
    "parts = re.split(r\"[/\\_\\.]\", fname)\n",
    "survey = parts[-2]\n",
    "otype = parts[-3]\n",
    "\n",
    "df_raw = df.filter(pl.col(\"processing\")==\"raw\")\n",
    "df_pro = df.filter(pl.col(\"processing\")!=\"raw\")\n",
    "theta_raw = np.sort(np.unique(df_raw[:,0]))\n",
    "df_raw_p = df_raw.partition_by(df_raw.columns[0], maintain_order=True)\n",
    "x_raw = [df[:,1].to_numpy().astype(np.float64) for df in df_raw_p]\n",
    "x_raw = [xi - np.nanmin(xi) for xi in x_raw]\n",
    "y_raw = [df[:,2].to_numpy().astype(np.float64) for df in df_raw_p]\n",
    "theta_pro = np.sort(np.unique(df_pro[:,0]))\n",
    "df_pro_p = df_pro.partition_by(df_pro.columns[0], maintain_order=True)\n",
    "x_pro = [df[:,1].to_numpy().astype(np.float64) for df in df_pro_p]\n",
    "x_pro = [xi - np.nanmin(xi) for xi in x_pro]\n",
    "y_pro = [df[:,2].to_numpy().astype(np.float64) for df in df_pro_p]\n"
   ]
  },
  {
   "cell_type": "code",
   "execution_count": null,
   "id": "473ff5b6",
   "metadata": {},
   "outputs": [],
   "source": [
    "#%%get stats\n",
    "unique_thetas = np.unique(theta_raw)\n",
    "thetaticks = np.round(np.linspace(np.floor(np.min(theta_raw)), np.ceil(np.max(theta_raw)), 4),0).astype(int)\n",
    "xticks = np.round(np.linspace(np.floor(np.min(np.concat(x_raw))), np.ceil(np.max(np.concat(x_raw))), 4), decimals=0).astype(int)\n",
    "yticks = np.round(np.linspace(np.floor(np.min(np.concat(y_raw))), np.ceil(np.max(np.concat(y_raw))), 4), decimals=0).astype(int)\n",
    "# yticks = np.sort(np.append(yticks, [-10, 80]))\n",
    "panelsize = np.pi/10\n",
    "vmin = 300 if \".py\" not in fname else None\n",
    "colors = lvisu.get_colors(theta_raw, cmap=\"nipy_spectral\", vmin=vmin)"
   ]
  },
  {
   "cell_type": "markdown",
   "id": "56b793e5",
   "metadata": {},
   "source": [
    "# Standard Usage"
   ]
  },
  {
   "cell_type": "markdown",
   "id": "9f6f2e0f",
   "metadata": {},
   "source": [
    "# Convenience Usage\n"
   ]
  }
 ],
 "metadata": {
  "kernelspec": {
   "display_name": "venv",
   "language": "python",
   "name": "python3"
  },
  "language_info": {
   "codemirror_mode": {
    "name": "ipython",
    "version": 3
   },
   "file_extension": ".py",
   "mimetype": "text/x-python",
   "name": "python",
   "nbconvert_exporter": "python",
   "pygments_lexer": "ipython3",
   "version": "3.13.3"
  }
 },
 "nbformat": 4,
 "nbformat_minor": 5
}
