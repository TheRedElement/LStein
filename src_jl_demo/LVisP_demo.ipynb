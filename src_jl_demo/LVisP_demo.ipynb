{
 "cells": [
  {
   "cell_type": "code",
   "execution_count": null,
   "id": "4000fa90",
   "metadata": {},
   "outputs": [
    {
     "name": "stderr",
     "output_type": "stream",
     "text": [
      "WARNING: replacing module LVisP.\n",
      "WARNING: replacing module LVisP.\n",
      "WARNING: using LVisP.LVisP in module Main conflicts with an existing identifier.\n"
     ]
    }
   ],
   "source": [
    "#%%imports\n",
    "using CSV\n",
    "using DataFrames\n",
    "using Glob\n",
    "using Plots\n",
    "using Random\n",
    "using Revise\n",
    "\n",
    "include(joinpath(@__DIR__, \"../src/LVisP.jl\"))\n",
    "using .LVisP\n"
   ]
  },
  {
   "cell_type": "code",
   "execution_count": null,
   "id": "d139cac7",
   "metadata": {},
   "outputs": [
    {
     "name": "stdout",
     "output_type": "stream",
     "text": [
      "[\"/home/lukas/github/LVisP/src_jl_demo/../data/11370314_snib_des.csv\", \"/home/lukas/github/LVisP/src_jl_demo/../data/114645810_snibc_elasticc.csv\", \"/home/lukas/github/LVisP/src_jl_demo/../data/11500415_sniin_des.csv\", \"/home/lukas/github/LVisP/src_jl_demo/../data/120712717_snibc_elasticc.csv\", \"/home/lukas/github/LVisP/src_jl_demo/../data/122276966_snibc_elasticc.csv\", \"/home/lukas/github/LVisP/src_jl_demo/../data/124266324_snii_elasticc.csv\", \"/home/lukas/github/LVisP/src_jl_demo/../data/132358631_snii_elasticc.csv\", \"/home/lukas/github/LVisP/src_jl_demo/../data/13686088_snia_des.csv\", \"/home/lukas/github/LVisP/src_jl_demo/../data/15108182_snic_des.csv\", \"/home/lukas/github/LVisP/src_jl_demo/../data/18213902_sniip_des.csv\", \"/home/lukas/github/LVisP/src_jl_demo/../data/1853138_sniil2_des.csv\", \"/home/lukas/github/LVisP/src_jl_demo/../data/21794560_snib_des.csv\", \"/home/lukas/github/LVisP/src_jl_demo/../data/21951066_sniil2_des.csv\", \"/home/lukas/github/LVisP/src_jl_demo/../data/22502500_sniil1_des.csv\", \"/home/lukas/github/LVisP/src_jl_demo/../data/2723412_sniin_des.csv\", \"/home/lukas/github/LVisP/src_jl_demo/../data/28191381_sniil1_des.csv\", \"/home/lukas/github/LVisP/src_jl_demo/../data/29216742_sniil2_des.csv\", \"/home/lukas/github/LVisP/src_jl_demo/../data/29508760_snic_des.csv\", \"/home/lukas/github/LVisP/src_jl_demo/../data/30365194_sniip_des.csv\", \"/home/lukas/github/LVisP/src_jl_demo/../data/31969503_snia_des.csv\", \"/home/lukas/github/LVisP/src_jl_demo/../data/33473486_sniil1_des.csv\", \"/home/lukas/github/LVisP/src_jl_demo/../data/3787399_snia_des.csv\", \"/home/lukas/github/LVisP/src_jl_demo/../data/60158_snic_des.csv\", \"/home/lukas/github/LVisP/src_jl_demo/../data/7137946_sniip_des.csv\", \"/home/lukas/github/LVisP/src_jl_demo/../data/72147108_snii_elasticc.csv\", \"/home/lukas/github/LVisP/src_jl_demo/../data/8777682_sniin_des.csv\", \"/home/lukas/github/LVisP/src_jl_demo/../data/9635893_snib_des.csv\"]\n",
      "[\"flt\", \"mjd\", \"fluxcal\", \"fluxcalerr\", \"processing\"]\n",
      "[\"flt\", \"mjd\", \"fluxcal\", \"fluxcalerr\", \"processing\"]\n",
      "[\"flt\", \"mjd\", \"fluxcal\", \"fluxcalerr\", \"processing\"]\n",
      "[\"flt\", \"mjd\", \"fluxcal\", \"fluxcalerr\", \"processing\"]\n",
      "[\"flt\", \"mjd\", \"fluxcal\", \"fluxcalerr\", \"processing\"]\n",
      "[\"flt\", \"mjd\", \"fluxcal\", \"fluxcalerr\", \"processing\"]\n",
      "[\"flt\", \"mjd\", \"fluxcal\", \"fluxcalerr\", \"processing\"]\n",
      "[\"flt\", \"mjd\", \"fluxcal\", \"fluxcalerr\", \"processing\"]\n",
      "[\"flt\", \"mjd\", \"fluxcal\", \"fluxcalerr\", \"processing\"]\n",
      "[\"flt\", \"mjd\", \"fluxcal\", \"fluxcalerr\", \"processing\"]\n",
      "[\"flt\", \"mjd\", \"fluxcal\", \"fluxcalerr\", \"processing\"]\n",
      "[\"flt\", \"mjd\", \"fluxcal\", \"fluxcalerr\", \"processing\"]\n",
      "[\"flt\", \"mjd\", \"fluxcal\", \"fluxcalerr\", \"processing\"]\n",
      "[\"flt\", \"mjd\", \"fluxcal\", \"fluxcalerr\", \"processing\"]\n",
      "[\"flt\", \"mjd\", \"fluxcal\", \"fluxcalerr\", \"processing\"]\n",
      "[\"flt\", \"mjd\", \"fluxcal\", \"fluxcalerr\", \"processing\"]\n",
      "[\"flt\", \"mjd\", \"fluxcal\", \"fluxcalerr\", \"processing\"]\n",
      "[\"flt\", \"mjd\", \"fluxcal\", \"fluxcalerr\", \"processing\"]\n",
      "[\"flt\", \"mjd\", \"fluxcal\", \"fluxcalerr\", \"processing\"]\n",
      "[\"flt\", \"mjd\", \"fluxcal\", \"fluxcalerr\", \"processing\"]\n",
      "[\"flt\", \"mjd\", \"fluxcal\", \"fluxcalerr\", \"processing\"]\n",
      "[\"flt\", \"mjd\", \"fluxcal\", \"fluxcalerr\", \"processing\"]\n",
      "[\"flt\", \"mjd\", \"fluxcal\", \"fluxcalerr\", \"processing\"]\n",
      "[\"flt\", \"mjd\", \"fluxcal\", \"fluxcalerr\", \"processing\"]\n",
      "[\"flt\", \"mjd\", \"fluxcal\", \"fluxcalerr\", \"processing\"]\n",
      "[\"flt\", \"mjd\", \"fluxcal\", \"fluxcalerr\", \"processing\"]\n",
      "[\"flt\", \"mjd\", \"fluxcal\", \"fluxcalerr\", \"processing\"]\n"
     ]
    }
   ],
   "source": [
    "#%%data loading\n",
    "fnames = Glob.glob(\"*.csv\", joinpath(@__DIR__,\"../data/\"))\n",
    "println(fnames)\n",
    "fname = fnames[1]\n",
    "df = DataFrame(CSV.File(fname))\n"
   ]
  },
  {
   "cell_type": "code",
   "execution_count": null,
   "id": "f70c2561",
   "metadata": {},
   "outputs": [],
   "source": [
    "#%%plotting\n",
    "LVPC = LVisP.LVisPCanvas(\n",
    "    thetalims=(0.2, 4.2), xticks=[-30, 0, 50, 100],\n",
    "    thetaguidelims=(0,2pi), thetaplotlims=(0,3pi/2), xlimdeadzone=0.3, panelsize=pi/12,\n",
    "    thetalabel=\"Passband Wavelength\", xlabel=\"Time - Peak\", ylabel=\"Flux\",\n",
    "    th_arrowlength=pi/3,\n",
    "    panelbounds=false, ygrid=true,\n",
    "    fontsizes=(thetalabel=15,ylabel=14),\n",
    "    thetaarrowkwargs=(color=:black, alpha=0.3),\n",
    "    thetaticklabelkwargs=(halign=:center,),\n",
    "    thetalabelkwargs=(halign=:center,),\n",
    "    xtickkwargs=(linecolor=:black, linealpha=0.3,),\n",
    "    xticklabelkwargs=(rotation=-90, halign=:right, valign=:bottom),\n",
    "    xlabelkwargs=(halign=:center,),\n",
    "    ygridkwargs=(linecolor=:black, linealpha=0.3, linestyle=:solid,),\n",
    "    yticklabelkwargs=(rotation=0,),\n",
    "    # ylabelkwargs=(rotation=0,),\n",
    "    panelboundskwargs=(linecolor=:black, linealpha=0.5, linestyle=:solid,),\n",
    ")\n",
    "    \n",
    "    # colors = Colorings.colorcode(passbands; cmap=:plasma, clims=extrema(passband_options))\n",
    "    colors = palette(:rainbow, nobjects)\n",
    "    plot_kwargs=[Dict(:lc=>colors[i], :label=>\"$(round(passbands[i], digits=2))\") for i in eachindex(passbands)]\n",
    "    \n",
    "    p = LVisP.plot(\n",
    "        LVPC,\n",
    "        df[:,1], time, flux;\n",
    "        yticks=[0, 30, 60],\n",
    "        plot_kwargs=plot_kwargs\n",
    "    )\n",
    "    \n",
    "    display(p)"
   ]
  }
 ],
 "metadata": {
  "kernelspec": {
   "display_name": "Julia 1.10.5",
   "language": "julia",
   "name": "julia-1.10"
  },
  "language_info": {
   "file_extension": ".jl",
   "mimetype": "application/julia",
   "name": "julia",
   "version": "1.10.5"
  }
 },
 "nbformat": 4,
 "nbformat_minor": 5
}
